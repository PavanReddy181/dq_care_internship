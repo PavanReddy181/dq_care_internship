{
 "cells": [
  {
   "cell_type": "code",
   "execution_count": 1,
   "id": "67a85175",
   "metadata": {},
   "outputs": [],
   "source": [
    "import numpy as np\n",
    "import pandas as pd"
   ]
  },
  {
   "cell_type": "code",
   "execution_count": 2,
   "id": "a53425e8",
   "metadata": {},
   "outputs": [
    {
     "data": {
      "text/html": [
       "<div>\n",
       "<style scoped>\n",
       "    .dataframe tbody tr th:only-of-type {\n",
       "        vertical-align: middle;\n",
       "    }\n",
       "\n",
       "    .dataframe tbody tr th {\n",
       "        vertical-align: top;\n",
       "    }\n",
       "\n",
       "    .dataframe thead th {\n",
       "        text-align: right;\n",
       "    }\n",
       "</style>\n",
       "<table border=\"1\" class=\"dataframe\">\n",
       "  <thead>\n",
       "    <tr style=\"text-align: right;\">\n",
       "      <th></th>\n",
       "      <th>Unnamed: 0</th>\n",
       "      <th>Sex</th>\n",
       "      <th>Diabetes duration (y)</th>\n",
       "      <th>SBP (mmHg)</th>\n",
       "      <th>DBP (mmHg)</th>\n",
       "      <th>HbA1c (%)</th>\n",
       "      <th>type</th>\n",
       "      <th>diagnosed</th>\n",
       "      <th>result</th>\n",
       "    </tr>\n",
       "  </thead>\n",
       "  <tbody>\n",
       "    <tr>\n",
       "      <th>0</th>\n",
       "      <td>0</td>\n",
       "      <td>1</td>\n",
       "      <td>10.0</td>\n",
       "      <td>101</td>\n",
       "      <td>69</td>\n",
       "      <td>14.1</td>\n",
       "      <td>0</td>\n",
       "      <td>0</td>\n",
       "      <td>0.013</td>\n",
       "    </tr>\n",
       "    <tr>\n",
       "      <th>1</th>\n",
       "      <td>1</td>\n",
       "      <td>1</td>\n",
       "      <td>8.0</td>\n",
       "      <td>156</td>\n",
       "      <td>96</td>\n",
       "      <td>10.0</td>\n",
       "      <td>0</td>\n",
       "      <td>0</td>\n",
       "      <td>0.008</td>\n",
       "    </tr>\n",
       "    <tr>\n",
       "      <th>2</th>\n",
       "      <td>2</td>\n",
       "      <td>1</td>\n",
       "      <td>8.0</td>\n",
       "      <td>105</td>\n",
       "      <td>71</td>\n",
       "      <td>9.6</td>\n",
       "      <td>0</td>\n",
       "      <td>0</td>\n",
       "      <td>0.006</td>\n",
       "    </tr>\n",
       "    <tr>\n",
       "      <th>3</th>\n",
       "      <td>3</td>\n",
       "      <td>1</td>\n",
       "      <td>20.0</td>\n",
       "      <td>104</td>\n",
       "      <td>74</td>\n",
       "      <td>8.1</td>\n",
       "      <td>0</td>\n",
       "      <td>0</td>\n",
       "      <td>0.011</td>\n",
       "    </tr>\n",
       "    <tr>\n",
       "      <th>4</th>\n",
       "      <td>4</td>\n",
       "      <td>0</td>\n",
       "      <td>12.0</td>\n",
       "      <td>155</td>\n",
       "      <td>108</td>\n",
       "      <td>10.0</td>\n",
       "      <td>0</td>\n",
       "      <td>0</td>\n",
       "      <td>0.012</td>\n",
       "    </tr>\n",
       "  </tbody>\n",
       "</table>\n",
       "</div>"
      ],
      "text/plain": [
       "   Unnamed: 0  Sex  Diabetes duration (y)  SBP (mmHg)  DBP (mmHg)  HbA1c (%)  \\\n",
       "0           0    1                   10.0         101          69       14.1   \n",
       "1           1    1                    8.0         156          96       10.0   \n",
       "2           2    1                    8.0         105          71        9.6   \n",
       "3           3    1                   20.0         104          74        8.1   \n",
       "4           4    0                   12.0         155         108       10.0   \n",
       "\n",
       "   type  diagnosed  result  \n",
       "0     0          0   0.013  \n",
       "1     0          0   0.008  \n",
       "2     0          0   0.006  \n",
       "3     0          0   0.011  \n",
       "4     0          0   0.012  "
      ]
     },
     "execution_count": 2,
     "metadata": {},
     "output_type": "execute_result"
    }
   ],
   "source": [
    "df =pd.read_excel('Retinopathy.xlsx')\n",
    "df.head()"
   ]
  },
  {
   "cell_type": "code",
   "execution_count": 3,
   "id": "c9adb567",
   "metadata": {},
   "outputs": [],
   "source": [
    "df = df.drop(['Unnamed: 0'],axis=1)"
   ]
  },
  {
   "cell_type": "code",
   "execution_count": 4,
   "id": "91de4d4e",
   "metadata": {},
   "outputs": [
    {
     "data": {
      "text/plain": [
       "Sex                       0\n",
       "Diabetes duration (y)     6\n",
       "SBP (mmHg)                0\n",
       "DBP (mmHg)                0\n",
       "HbA1c (%)                19\n",
       "type                      0\n",
       "diagnosed                 0\n",
       "result                   71\n",
       "dtype: int64"
      ]
     },
     "execution_count": 4,
     "metadata": {},
     "output_type": "execute_result"
    }
   ],
   "source": [
    "df.isna().sum()"
   ]
  },
  {
   "cell_type": "code",
   "execution_count": 5,
   "id": "bac30241",
   "metadata": {},
   "outputs": [],
   "source": [
    "df.dropna(inplace=True)"
   ]
  },
  {
   "cell_type": "code",
   "execution_count": 6,
   "id": "016cacbb",
   "metadata": {},
   "outputs": [
    {
     "data": {
      "text/plain": [
       "Index(['Sex', 'Diabetes duration (y)', 'SBP (mmHg)', 'DBP (mmHg)', 'HbA1c (%)',\n",
       "       'type', 'diagnosed', 'result'],\n",
       "      dtype='object')"
      ]
     },
     "execution_count": 6,
     "metadata": {},
     "output_type": "execute_result"
    }
   ],
   "source": [
    "df.columns"
   ]
  },
  {
   "cell_type": "code",
   "execution_count": 7,
   "id": "b948e9ee",
   "metadata": {},
   "outputs": [],
   "source": [
    "X_dataset = df.drop(['result'],axis=1)\n",
    "Y_dataset = df['result']"
   ]
  },
  {
   "cell_type": "code",
   "execution_count": 8,
   "id": "f5e65416",
   "metadata": {},
   "outputs": [
    {
     "data": {
      "text/plain": [
       "['sc.pkl']"
      ]
     },
     "execution_count": 8,
     "metadata": {},
     "output_type": "execute_result"
    }
   ],
   "source": [
    "from sklearn.preprocessing import StandardScaler\n",
    "import joblib\n",
    "sc=StandardScaler()\n",
    "sc.fit(X_dataset)\n",
    "X_norm_dataset=sc.transform(X_dataset)\n",
    "# Save the parameters of the StandardScaler object\n",
    "joblib.dump(sc, 'sc.pkl')"
   ]
  },
  {
   "cell_type": "code",
   "execution_count": 9,
   "id": "8c9e8055",
   "metadata": {},
   "outputs": [
    {
     "data": {
      "text/plain": [
       "array([[ 1.0023152 ,  0.08727971, -1.77680572, ...,  2.75671732,\n",
       "        -1.00862657, -1.00696179],\n",
       "       [ 1.0023152 , -0.19782866,  1.10665645, ...,  0.64236291,\n",
       "        -1.00862657, -1.00696179],\n",
       "       [ 1.0023152 , -0.19782866, -1.56709938, ...,  0.43608443,\n",
       "        -1.00862657, -1.00696179],\n",
       "       ...,\n",
       "       [-0.99769015,  1.37026737, -1.5146728 , ...,  0.95178063,\n",
       "         0.99144721,  0.99308634],\n",
       "       [ 1.0023152 , -1.05315377,  0.79209694, ..., -0.07961177,\n",
       "         0.99144721,  0.99308634],\n",
       "       [-0.99769015, -1.05315377, -0.93798036, ..., -0.28589025,\n",
       "         0.99144721,  0.99308634]])"
      ]
     },
     "execution_count": 9,
     "metadata": {},
     "output_type": "execute_result"
    }
   ],
   "source": [
    "X_norm_dataset"
   ]
  },
  {
   "cell_type": "code",
   "execution_count": 10,
   "id": "c1f3929f",
   "metadata": {},
   "outputs": [],
   "source": [
    "from sklearn.model_selection import train_test_split\n",
    "X_train,X_test,Y_train,Y_test = train_test_split(X_norm_dataset,Y_dataset,test_size=0.2,random_state=42)"
   ]
  },
  {
   "cell_type": "code",
   "execution_count": 11,
   "id": "ae46c759",
   "metadata": {},
   "outputs": [
    {
     "name": "stdout",
     "output_type": "stream",
     "text": [
      "WARNING:tensorflow:From C:\\Users\\Lakshmi Nath Reddy\\anaconda3\\Lib\\site-packages\\keras\\src\\losses.py:2976: The name tf.losses.sparse_softmax_cross_entropy is deprecated. Please use tf.compat.v1.losses.sparse_softmax_cross_entropy instead.\n",
      "\n"
     ]
    }
   ],
   "source": [
    "import tensorflow as tf\n",
    "from keras.models import Sequential\n",
    "from keras.layers import Dense, Dropout, BatchNormalization"
   ]
  },
  {
   "cell_type": "code",
   "execution_count": 12,
   "id": "d4f71096",
   "metadata": {},
   "outputs": [
    {
     "name": "stdout",
     "output_type": "stream",
     "text": [
      "WARNING:tensorflow:From C:\\Users\\Lakshmi Nath Reddy\\anaconda3\\Lib\\site-packages\\keras\\src\\backend.py:873: The name tf.get_default_graph is deprecated. Please use tf.compat.v1.get_default_graph instead.\n",
      "\n",
      "WARNING:tensorflow:From C:\\Users\\Lakshmi Nath Reddy\\anaconda3\\Lib\\site-packages\\keras\\src\\optimizers\\__init__.py:309: The name tf.train.Optimizer is deprecated. Please use tf.compat.v1.train.Optimizer instead.\n",
      "\n"
     ]
    }
   ],
   "source": [
    "# Define the model architecture\n",
    "model = Sequential()\n",
    "model.add(Dense(128, activation='relu', input_shape=(7,)))\n",
    "model.add(BatchNormalization())\n",
    "model.add(Dropout(0.5))\n",
    "model.add(Dense(64, activation='relu'))\n",
    "model.add(BatchNormalization())\n",
    "model.add(Dropout(0.5))\n",
    "model.add(Dense(32, activation='relu'))\n",
    "model.add(BatchNormalization())\n",
    "model.add(Dropout(0.5))\n",
    "model.add(Dense(16, activation='relu'))\n",
    "model.add(BatchNormalization())\n",
    "model.add(Dense(8, activation='relu'))\n",
    "model.add(Dense(1))\n",
    "\n",
    "\n",
    "# Compile the model\n",
    "model.compile(optimizer='adam', loss='mean_squared_error')"
   ]
  },
  {
   "cell_type": "code",
   "execution_count": 13,
   "id": "91d06c9a",
   "metadata": {},
   "outputs": [
    {
     "name": "stdout",
     "output_type": "stream",
     "text": [
      "Epoch 1/50\n",
      "WARNING:tensorflow:From C:\\Users\\Lakshmi Nath Reddy\\anaconda3\\Lib\\site-packages\\keras\\src\\utils\\tf_utils.py:492: The name tf.ragged.RaggedTensorValue is deprecated. Please use tf.compat.v1.ragged.RaggedTensorValue instead.\n",
      "\n",
      "152/152 [==============================] - 2s 3ms/step - loss: 0.2578 - val_loss: 0.0077\n",
      "Epoch 2/50\n",
      "152/152 [==============================] - 0s 2ms/step - loss: 0.0449 - val_loss: 0.0071\n",
      "Epoch 3/50\n",
      "152/152 [==============================] - 0s 2ms/step - loss: 0.0255 - val_loss: 0.0069\n",
      "Epoch 4/50\n",
      "152/152 [==============================] - 0s 2ms/step - loss: 0.0177 - val_loss: 0.0061\n",
      "Epoch 5/50\n",
      "152/152 [==============================] - 0s 2ms/step - loss: 0.0127 - val_loss: 0.0056\n",
      "Epoch 6/50\n",
      "152/152 [==============================] - 0s 2ms/step - loss: 0.0102 - val_loss: 0.0050\n",
      "Epoch 7/50\n",
      "152/152 [==============================] - 0s 2ms/step - loss: 0.0093 - val_loss: 0.0047\n",
      "Epoch 8/50\n",
      "152/152 [==============================] - 0s 2ms/step - loss: 0.0079 - val_loss: 0.0043\n",
      "Epoch 9/50\n",
      "152/152 [==============================] - 0s 2ms/step - loss: 0.0071 - val_loss: 0.0039\n",
      "Epoch 10/50\n",
      "152/152 [==============================] - 0s 2ms/step - loss: 0.0067 - val_loss: 0.0035\n",
      "Epoch 11/50\n",
      "152/152 [==============================] - 0s 2ms/step - loss: 0.0059 - val_loss: 0.0032\n",
      "Epoch 12/50\n",
      "152/152 [==============================] - 0s 2ms/step - loss: 0.0053 - val_loss: 0.0021\n",
      "Epoch 13/50\n",
      "152/152 [==============================] - 0s 2ms/step - loss: 0.0051 - val_loss: 0.0023\n",
      "Epoch 14/50\n",
      "152/152 [==============================] - 0s 2ms/step - loss: 0.0047 - val_loss: 0.0021\n",
      "Epoch 15/50\n",
      "152/152 [==============================] - 0s 2ms/step - loss: 0.0045 - val_loss: 0.0020\n",
      "Epoch 16/50\n",
      "152/152 [==============================] - 0s 2ms/step - loss: 0.0041 - val_loss: 0.0023\n",
      "Epoch 17/50\n",
      "152/152 [==============================] - 0s 2ms/step - loss: 0.0039 - val_loss: 0.0015\n",
      "Epoch 18/50\n",
      "152/152 [==============================] - 0s 2ms/step - loss: 0.0040 - val_loss: 0.0018\n",
      "Epoch 19/50\n",
      "152/152 [==============================] - 0s 2ms/step - loss: 0.0038 - val_loss: 0.0018\n",
      "Epoch 20/50\n",
      "152/152 [==============================] - 0s 2ms/step - loss: 0.0035 - val_loss: 0.0017\n",
      "Epoch 21/50\n",
      "152/152 [==============================] - 0s 2ms/step - loss: 0.0035 - val_loss: 0.0015\n",
      "Epoch 22/50\n",
      "152/152 [==============================] - 0s 2ms/step - loss: 0.0032 - val_loss: 0.0012\n",
      "Epoch 23/50\n",
      "152/152 [==============================] - 0s 2ms/step - loss: 0.0034 - val_loss: 0.0013\n",
      "Epoch 24/50\n",
      "152/152 [==============================] - 0s 2ms/step - loss: 0.0031 - val_loss: 0.0011\n",
      "Epoch 25/50\n",
      "152/152 [==============================] - 0s 2ms/step - loss: 0.0031 - val_loss: 9.4525e-04\n",
      "Epoch 26/50\n",
      "152/152 [==============================] - 0s 2ms/step - loss: 0.0031 - val_loss: 0.0015\n",
      "Epoch 27/50\n",
      "152/152 [==============================] - 0s 2ms/step - loss: 0.0029 - val_loss: 0.0019\n",
      "Epoch 28/50\n",
      "152/152 [==============================] - 0s 2ms/step - loss: 0.0029 - val_loss: 0.0014\n",
      "Epoch 29/50\n",
      "152/152 [==============================] - 0s 2ms/step - loss: 0.0029 - val_loss: 9.7401e-04\n",
      "Epoch 30/50\n",
      "152/152 [==============================] - 0s 2ms/step - loss: 0.0026 - val_loss: 0.0012\n",
      "Epoch 31/50\n",
      "152/152 [==============================] - 0s 2ms/step - loss: 0.0027 - val_loss: 0.0012\n",
      "Epoch 32/50\n",
      "152/152 [==============================] - 0s 2ms/step - loss: 0.0027 - val_loss: 0.0013\n",
      "Epoch 33/50\n",
      "152/152 [==============================] - 0s 2ms/step - loss: 0.0027 - val_loss: 0.0011\n",
      "Epoch 34/50\n",
      "152/152 [==============================] - 0s 2ms/step - loss: 0.0025 - val_loss: 9.4507e-04\n",
      "Epoch 35/50\n",
      "152/152 [==============================] - 0s 2ms/step - loss: 0.0027 - val_loss: 0.0010\n",
      "Epoch 36/50\n",
      "152/152 [==============================] - 0s 2ms/step - loss: 0.0025 - val_loss: 5.1957e-04\n",
      "Epoch 37/50\n",
      "152/152 [==============================] - 0s 2ms/step - loss: 0.0024 - val_loss: 8.3166e-04\n",
      "Epoch 38/50\n",
      "152/152 [==============================] - 0s 2ms/step - loss: 0.0026 - val_loss: 9.8666e-04\n",
      "Epoch 39/50\n",
      "152/152 [==============================] - 0s 2ms/step - loss: 0.0025 - val_loss: 4.9988e-04\n",
      "Epoch 40/50\n",
      "152/152 [==============================] - 0s 2ms/step - loss: 0.0024 - val_loss: 9.5200e-04\n",
      "Epoch 41/50\n",
      "152/152 [==============================] - 0s 2ms/step - loss: 0.0023 - val_loss: 0.0010\n",
      "Epoch 42/50\n",
      "152/152 [==============================] - 0s 2ms/step - loss: 0.0022 - val_loss: 0.0010\n",
      "Epoch 43/50\n",
      "152/152 [==============================] - 0s 2ms/step - loss: 0.0022 - val_loss: 6.1710e-04\n",
      "Epoch 44/50\n",
      "152/152 [==============================] - 0s 2ms/step - loss: 0.0022 - val_loss: 7.4820e-04\n",
      "Epoch 45/50\n",
      "152/152 [==============================] - 0s 2ms/step - loss: 0.0022 - val_loss: 8.0708e-04\n",
      "Epoch 46/50\n",
      "152/152 [==============================] - 0s 2ms/step - loss: 0.0022 - val_loss: 9.4728e-04\n",
      "Epoch 47/50\n",
      "152/152 [==============================] - 0s 2ms/step - loss: 0.0021 - val_loss: 6.1152e-04\n",
      "Epoch 48/50\n",
      "152/152 [==============================] - 0s 2ms/step - loss: 0.0021 - val_loss: 7.9587e-04\n",
      "Epoch 49/50\n",
      "152/152 [==============================] - 0s 2ms/step - loss: 0.0021 - val_loss: 5.2285e-04\n",
      "Epoch 50/50\n",
      "152/152 [==============================] - 0s 2ms/step - loss: 0.0021 - val_loss: 4.7862e-04\n"
     ]
    },
    {
     "data": {
      "text/plain": [
       "<keras.src.callbacks.History at 0x1803b2c5090>"
      ]
     },
     "execution_count": 13,
     "metadata": {},
     "output_type": "execute_result"
    }
   ],
   "source": [
    "# Train the model\n",
    "model.fit(X_train, Y_train,validation_data=(X_test,Y_test),epochs=50)"
   ]
  },
  {
   "cell_type": "code",
   "execution_count": 14,
   "id": "b0f18cc0",
   "metadata": {
    "scrolled": true
   },
   "outputs": [],
   "source": [
    "model.save(\"Retinopathy_estimator.keras\")"
   ]
  },
  {
   "cell_type": "code",
   "execution_count": 15,
   "id": "e94be8b9",
   "metadata": {},
   "outputs": [
    {
     "name": "stdout",
     "output_type": "stream",
     "text": [
      "1/1 [==============================] - 0s 134ms/step\n",
      "Actual value: 0.007 | Prediction value: 0.018955015\n",
      "Actual value: 0.002 | Prediction value: 0.012567105\n",
      "Actual value: 0.022 | Prediction value: 0.019506529\n",
      "Actual value: 0.001 | Prediction value: 0.014103504\n",
      "Actual value: 0.077 | Prediction value: 0.07723918\n",
      "Actual value: 0.123 | Prediction value: 0.09200104\n",
      "Actual value: 0.013 | Prediction value: 0.013930488\n"
     ]
    }
   ],
   "source": [
    "x=np.array(X_test[0:7])\n",
    "y=np.array(Y_test.iloc[0:7])\n",
    "pred=np.squeeze(np.array(model.predict(x)))\n",
    "for i in range(len(pred)):\n",
    "    print(\"Actual value:\",y[i],\"| Prediction value:\",pred[i])"
   ]
  },
  {
   "cell_type": "code",
   "execution_count": null,
   "id": "81458ba1",
   "metadata": {},
   "outputs": [],
   "source": []
  }
 ],
 "metadata": {
  "kernelspec": {
   "display_name": "Python 3 (ipykernel)",
   "language": "python",
   "name": "python3"
  },
  "language_info": {
   "codemirror_mode": {
    "name": "ipython",
    "version": 3
   },
   "file_extension": ".py",
   "mimetype": "text/x-python",
   "name": "python",
   "nbconvert_exporter": "python",
   "pygments_lexer": "ipython3",
   "version": "3.11.5"
  }
 },
 "nbformat": 4,
 "nbformat_minor": 5
}
